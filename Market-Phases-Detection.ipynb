{
  "nbformat": 4,
  "nbformat_minor": 0,
  "metadata": {
    "colab": {
      "name": "Market-Phases-Detection.ipynb",
      "provenance": [],
      "collapsed_sections": [],
      "toc_visible": true
    },
    "kernelspec": {
      "name": "python3",
      "display_name": "Python 3"
    },
    "language_info": {
      "name": "python"
    }
  },
  "cells": [
    {
      "cell_type": "markdown",
      "metadata": {
        "id": "h88oMrvJZnTw"
      },
      "source": [
        "### 1. Importing packages"
      ]
    },
    {
      "cell_type": "code",
      "source": [
        "!pip install pandas-datareader==0.10.0"
      ],
      "metadata": {
        "id": "WRKIRHdoFliB"
      },
      "execution_count": null,
      "outputs": []
    },
    {
      "cell_type": "code",
      "metadata": {
        "id": "vznpcpfG2OWq"
      },
      "source": [
        "from pandas_datareader import data as web\n",
        "from sklearn import mixture as mix\n",
        "import numpy as np\n",
        "import pandas as pd\n",
        "import seaborn as sns\n",
        "import matplotlib.pyplot as plt"
      ],
      "execution_count": null,
      "outputs": []
    },
    {
      "cell_type": "markdown",
      "metadata": {
        "id": "3cypZMzw2OWr"
      },
      "source": [
        "### 2. Loading dataset"
      ]
    },
    {
      "cell_type": "code",
      "metadata": {
        "id": "vP0lEpJC2OWs"
      },
      "source": [
        "# loading SPDR S&P 500 ETF Trust (SPY) data from Yahoo Finance\n",
        "spy_df = web.get_data_yahoo('SPY', start='2000-01-01', end='2020-12-31')\n",
        "spy_df = spy_df[['Open', 'High', 'Low', 'Adj Close']]"
      ],
      "execution_count": null,
      "outputs": []
    },
    {
      "cell_type": "markdown",
      "metadata": {
        "id": "TYGrhFrr2OWt"
      },
      "source": [
        "### 3. Detecting regimes (market phases)"
      ]
    },
    {
      "cell_type": "code",
      "metadata": {
        "id": "9Lr1jyCp2OWt"
      },
      "source": [
        "# detecting regimes using Gaussian mixture model\n",
        "regime_detector = mix.GaussianMixture(n_components=4, \n",
        "                                      covariance_type='spherical', \n",
        "                                      n_init=100, \n",
        "                                      random_state=14)"
      ],
      "execution_count": null,
      "outputs": []
    },
    {
      "cell_type": "code",
      "metadata": {
        "id": "ped-eVH_2OWu"
      },
      "source": [
        "# fitting regime detector\n",
        "regime_detector.fit(np.reshape(spy_df, (-1, spy_df.shape[1])))\n",
        "# predicting regimes\n",
        "regimes = regime_detector.predict(np.reshape(spy_df, (-1, spy_df.shape[1])))"
      ],
      "execution_count": null,
      "outputs": []
    },
    {
      "cell_type": "code",
      "metadata": {
        "id": "Gd75Z23E2OWu"
      },
      "source": [
        "# adding returns column\n",
        "spy_df['Return'] = np.log(spy_df['Adj Close'] / spy_df['Adj Close'].shift(1))"
      ],
      "execution_count": null,
      "outputs": []
    },
    {
      "cell_type": "code",
      "metadata": {
        "id": "CdJWVWwY2OWv"
      },
      "source": [
        "# creating regimes dataframe\n",
        "regimes_df = pd.DataFrame(regimes, columns=['Regime'], index=spy_df.index)\n",
        "regimes_df = regimes_df.join(spy_df, how='inner')\n",
        "regimes_df['Cum Return'] = spy_df.Return.cumsum()\n",
        "regimes_df.reset_index(drop=False, inplace=True)\n",
        "regimes_df.rename(columns={'index':'Date'}, inplace=True)\n",
        "regimes_df = regimes_df.iloc[1:,]"
      ],
      "execution_count": null,
      "outputs": []
    },
    {
      "cell_type": "code",
      "metadata": {
        "colab": {
          "base_uri": "https://localhost:8080/",
          "height": 206
        },
        "id": "TR3X0gn22OWw",
        "outputId": "f30ca926-231e-4e07-ab2d-e28ded383eb0"
      },
      "source": [
        "regimes_df.head()"
      ],
      "execution_count": null,
      "outputs": [
        {
          "output_type": "execute_result",
          "data": {
            "text/html": [
              "\n",
              "  <div id=\"df-3b0fb1b8-6c43-41ac-9c18-bba1e6f5cf0e\">\n",
              "    <div class=\"colab-df-container\">\n",
              "      <div>\n",
              "<style scoped>\n",
              "    .dataframe tbody tr th:only-of-type {\n",
              "        vertical-align: middle;\n",
              "    }\n",
              "\n",
              "    .dataframe tbody tr th {\n",
              "        vertical-align: top;\n",
              "    }\n",
              "\n",
              "    .dataframe thead th {\n",
              "        text-align: right;\n",
              "    }\n",
              "</style>\n",
              "<table border=\"1\" class=\"dataframe\">\n",
              "  <thead>\n",
              "    <tr style=\"text-align: right;\">\n",
              "      <th></th>\n",
              "      <th>Date</th>\n",
              "      <th>Regime</th>\n",
              "      <th>Open</th>\n",
              "      <th>High</th>\n",
              "      <th>Low</th>\n",
              "      <th>Adj Close</th>\n",
              "      <th>Return</th>\n",
              "      <th>Cum Return</th>\n",
              "    </tr>\n",
              "  </thead>\n",
              "  <tbody>\n",
              "    <tr>\n",
              "      <th>1</th>\n",
              "      <td>2000-01-04</td>\n",
              "      <td>1</td>\n",
              "      <td>143.53125</td>\n",
              "      <td>144.06250</td>\n",
              "      <td>139.640625</td>\n",
              "      <td>93.067406</td>\n",
              "      <td>-0.039892</td>\n",
              "      <td>-0.039892</td>\n",
              "    </tr>\n",
              "    <tr>\n",
              "      <th>2</th>\n",
              "      <td>2000-01-05</td>\n",
              "      <td>1</td>\n",
              "      <td>139.93750</td>\n",
              "      <td>141.53125</td>\n",
              "      <td>137.250000</td>\n",
              "      <td>93.233894</td>\n",
              "      <td>0.001787</td>\n",
              "      <td>-0.038104</td>\n",
              "    </tr>\n",
              "    <tr>\n",
              "      <th>3</th>\n",
              "      <td>2000-01-06</td>\n",
              "      <td>1</td>\n",
              "      <td>139.62500</td>\n",
              "      <td>141.50000</td>\n",
              "      <td>137.750000</td>\n",
              "      <td>91.735497</td>\n",
              "      <td>-0.016202</td>\n",
              "      <td>-0.054306</td>\n",
              "    </tr>\n",
              "    <tr>\n",
              "      <th>4</th>\n",
              "      <td>2000-01-07</td>\n",
              "      <td>1</td>\n",
              "      <td>140.31250</td>\n",
              "      <td>145.75000</td>\n",
              "      <td>140.062500</td>\n",
              "      <td>97.063148</td>\n",
              "      <td>0.056452</td>\n",
              "      <td>0.002146</td>\n",
              "    </tr>\n",
              "    <tr>\n",
              "      <th>5</th>\n",
              "      <td>2000-01-10</td>\n",
              "      <td>1</td>\n",
              "      <td>146.25000</td>\n",
              "      <td>146.90625</td>\n",
              "      <td>145.031250</td>\n",
              "      <td>97.396126</td>\n",
              "      <td>0.003425</td>\n",
              "      <td>0.005571</td>\n",
              "    </tr>\n",
              "  </tbody>\n",
              "</table>\n",
              "</div>\n",
              "      <button class=\"colab-df-convert\" onclick=\"convertToInteractive('df-3b0fb1b8-6c43-41ac-9c18-bba1e6f5cf0e')\"\n",
              "              title=\"Convert this dataframe to an interactive table.\"\n",
              "              style=\"display:none;\">\n",
              "        \n",
              "  <svg xmlns=\"http://www.w3.org/2000/svg\" height=\"24px\"viewBox=\"0 0 24 24\"\n",
              "       width=\"24px\">\n",
              "    <path d=\"M0 0h24v24H0V0z\" fill=\"none\"/>\n",
              "    <path d=\"M18.56 5.44l.94 2.06.94-2.06 2.06-.94-2.06-.94-.94-2.06-.94 2.06-2.06.94zm-11 1L8.5 8.5l.94-2.06 2.06-.94-2.06-.94L8.5 2.5l-.94 2.06-2.06.94zm10 10l.94 2.06.94-2.06 2.06-.94-2.06-.94-.94-2.06-.94 2.06-2.06.94z\"/><path d=\"M17.41 7.96l-1.37-1.37c-.4-.4-.92-.59-1.43-.59-.52 0-1.04.2-1.43.59L10.3 9.45l-7.72 7.72c-.78.78-.78 2.05 0 2.83L4 21.41c.39.39.9.59 1.41.59.51 0 1.02-.2 1.41-.59l7.78-7.78 2.81-2.81c.8-.78.8-2.07 0-2.86zM5.41 20L4 18.59l7.72-7.72 1.47 1.35L5.41 20z\"/>\n",
              "  </svg>\n",
              "      </button>\n",
              "      \n",
              "  <style>\n",
              "    .colab-df-container {\n",
              "      display:flex;\n",
              "      flex-wrap:wrap;\n",
              "      gap: 12px;\n",
              "    }\n",
              "\n",
              "    .colab-df-convert {\n",
              "      background-color: #E8F0FE;\n",
              "      border: none;\n",
              "      border-radius: 50%;\n",
              "      cursor: pointer;\n",
              "      display: none;\n",
              "      fill: #1967D2;\n",
              "      height: 32px;\n",
              "      padding: 0 0 0 0;\n",
              "      width: 32px;\n",
              "    }\n",
              "\n",
              "    .colab-df-convert:hover {\n",
              "      background-color: #E2EBFA;\n",
              "      box-shadow: 0px 1px 2px rgba(60, 64, 67, 0.3), 0px 1px 3px 1px rgba(60, 64, 67, 0.15);\n",
              "      fill: #174EA6;\n",
              "    }\n",
              "\n",
              "    [theme=dark] .colab-df-convert {\n",
              "      background-color: #3B4455;\n",
              "      fill: #D2E3FC;\n",
              "    }\n",
              "\n",
              "    [theme=dark] .colab-df-convert:hover {\n",
              "      background-color: #434B5C;\n",
              "      box-shadow: 0px 1px 3px 1px rgba(0, 0, 0, 0.15);\n",
              "      filter: drop-shadow(0px 1px 2px rgba(0, 0, 0, 0.3));\n",
              "      fill: #FFFFFF;\n",
              "    }\n",
              "  </style>\n",
              "\n",
              "      <script>\n",
              "        const buttonEl =\n",
              "          document.querySelector('#df-3b0fb1b8-6c43-41ac-9c18-bba1e6f5cf0e button.colab-df-convert');\n",
              "        buttonEl.style.display =\n",
              "          google.colab.kernel.accessAllowed ? 'block' : 'none';\n",
              "\n",
              "        async function convertToInteractive(key) {\n",
              "          const element = document.querySelector('#df-3b0fb1b8-6c43-41ac-9c18-bba1e6f5cf0e');\n",
              "          const dataTable =\n",
              "            await google.colab.kernel.invokeFunction('convertToInteractive',\n",
              "                                                     [key], {});\n",
              "          if (!dataTable) return;\n",
              "\n",
              "          const docLinkHtml = 'Like what you see? Visit the ' +\n",
              "            '<a target=\"_blank\" href=https://colab.research.google.com/notebooks/data_table.ipynb>data table notebook</a>'\n",
              "            + ' to learn more about interactive tables.';\n",
              "          element.innerHTML = '';\n",
              "          dataTable['output_type'] = 'display_data';\n",
              "          await google.colab.output.renderOutput(dataTable, element);\n",
              "          const docLink = document.createElement('div');\n",
              "          docLink.innerHTML = docLinkHtml;\n",
              "          element.appendChild(docLink);\n",
              "        }\n",
              "      </script>\n",
              "    </div>\n",
              "  </div>\n",
              "  "
            ],
            "text/plain": [
              "        Date  Regime       Open  ...  Adj Close    Return  Cum Return\n",
              "1 2000-01-04       1  143.53125  ...  93.067406 -0.039892   -0.039892\n",
              "2 2000-01-05       1  139.93750  ...  93.233894  0.001787   -0.038104\n",
              "3 2000-01-06       1  139.62500  ...  91.735497 -0.016202   -0.054306\n",
              "4 2000-01-07       1  140.31250  ...  97.063148  0.056452    0.002146\n",
              "5 2000-01-10       1  146.25000  ...  97.396126  0.003425    0.005571\n",
              "\n",
              "[5 rows x 8 columns]"
            ]
          },
          "metadata": {},
          "execution_count": 44
        }
      ]
    },
    {
      "cell_type": "markdown",
      "metadata": {
        "id": "hvKLalS62OWw"
      },
      "source": [
        "### 4. Plotting and analyzing regimes"
      ]
    },
    {
      "cell_type": "code",
      "metadata": {
        "colab": {
          "base_uri": "https://localhost:8080/",
          "height": 297
        },
        "id": "ISzRnGBS2OWx",
        "outputId": "980aa583-1cd6-4da4-b3ab-e931e3e620df"
      },
      "source": [
        "order = [0, 1, 2, 3]\n",
        "fig = sns.FacetGrid(data=regimes_df, hue='Regime', hue_order=order, aspect=2, height=4)\n",
        "fig.map(plt.scatter, 'Date', 'Cum Return', s=4).add_legend()\n",
        "plt.show()\n",
        "# 0:'Distribution', 1:'Accumulation', 2:'Mark up', 3:'Mark down'"
      ],
      "execution_count": null,
      "outputs": [
        {
          "output_type": "display_data",
          "data": {
            "image/png": "[encoded data removed]",
            "text/plain": [
              "<Figure size 621.5x288 with 1 Axes>"
            ]
          },
          "metadata": {
            "needs_background": "light"
          }
        }
      ]
    },
    {
      "cell_type": "code",
      "metadata": {
        "colab": {
          "base_uri": "https://localhost:8080/"
        },
        "id": "6VH9dAYT2OWx",
        "outputId": "29704845-c5af-4eeb-9efe-d071f4f5303b"
      },
      "source": [
        "for i in order:\n",
        "    mean = round(regime_detector.means_[i][0], 4)\n",
        "    cov = round(regime_detector.covariances_[i], 4)\n",
        "    print(f'- Mean for Regime {i}      : {mean}')\n",
        "    print(f'> Covariance for Regime {i}: {cov}')"
      ],
      "execution_count": null,
      "outputs": [
        {
          "output_type": "stream",
          "name": "stdout",
          "text": [
            "- Mean for Regime 0      : 284.5393\n",
            "> Covariance for Regime 0: 1141.6089\n",
            "- Mean for Regime 1      : 137.5948\n",
            "> Covariance for Regime 1: 89.2758\n",
            "- Mean for Regime 2      : 197.8667\n",
            "> Covariance for Regime 2: 297.0211\n",
            "- Mean for Regime 3      : 106.8256\n",
            "> Covariance for Regime 3: 142.1237\n"
          ]
        }
      ]
    },
    {
      "cell_type": "code",
      "source": [
        ""
      ],
      "metadata": {
        "id": "g_sMOOBDarRg"
      },
      "execution_count": null,
      "outputs": []
    }
  ]
}