{
  "nbformat": 4,
  "nbformat_minor": 0,
  "metadata": {
    "kernelspec": {
      "display_name": "Python 3",
      "language": "python",
      "name": "python3"
    },
    "language_info": {
      "codemirror_mode": {
        "name": "ipython",
        "version": 3
      },
      "file_extension": ".py",
      "mimetype": "text/x-python",
      "name": "python",
      "nbconvert_exporter": "python",
      "pygments_lexer": "ipython3",
      "version": "3.7.4"
    },
    "colab": {
      "name": "Detecting the Market Phase Using Machine Learning.ipynb",
      "provenance": [],
      "collapsed_sections": []
    }
  },
  "cells": [
    {
      "cell_type": "markdown",
      "metadata": {
        "id": "h88oMrvJZnTw"
      },
      "source": [
        "### 1. Importing packages"
      ]
    },
    {
      "cell_type": "code",
      "metadata": {
        "id": "vznpcpfG2OWq"
      },
      "source": [
        "from pandas_datareader import data as web\n",
        "import numpy as np\n",
        "import pandas as pd\n",
        "from sklearn import mixture as mix\n",
        "import seaborn as sns \n",
        "import matplotlib.pyplot as plt"
      ],
      "execution_count": null,
      "outputs": []
    },
    {
      "cell_type": "markdown",
      "metadata": {
        "id": "3cypZMzw2OWr"
      },
      "source": [
        "### 2. Loading data"
      ]
    },
    {
      "cell_type": "code",
      "metadata": {
        "id": "vP0lEpJC2OWs"
      },
      "source": [
        "df= web.get_data_yahoo('SPY', start= '2000-01-01', end='2020-12-31')\n",
        "df=df[['Open','High','Low', 'Adj Close']]"
      ],
      "execution_count": null,
      "outputs": []
    },
    {
      "cell_type": "markdown",
      "metadata": {
        "id": "TYGrhFrr2OWt"
      },
      "source": [
        "### 3. Detecting regimes"
      ]
    },
    {
      "cell_type": "code",
      "metadata": {
        "id": "9Lr1jyCp2OWt"
      },
      "source": [
        "regime_detector = mix.GaussianMixture(n_components=4, \n",
        "                            covariance_type=\"spherical\", \n",
        "                            n_init=100, \n",
        "                            random_state=14)"
      ],
      "execution_count": null,
      "outputs": []
    },
    {
      "cell_type": "code",
      "metadata": {
        "id": "ped-eVH_2OWu"
      },
      "source": [
        "regime_detector.fit(np.reshape(df, (-1, df.shape[1])))\n",
        "regime = regime_detector.predict(np.reshape(df, (-1, df.shape[1])))"
      ],
      "execution_count": null,
      "outputs": []
    },
    {
      "cell_type": "code",
      "metadata": {
        "id": "Gd75Z23E2OWu"
      },
      "source": [
        "df['Return']= np.log(df['Adj Close'] / df['Adj Close'].shift(1))"
      ],
      "execution_count": null,
      "outputs": []
    },
    {
      "cell_type": "code",
      "metadata": {
        "id": "CdJWVWwY2OWv"
      },
      "source": [
        "regimes = pd.DataFrame(regime, columns=['Regime'],index=df.index)\n",
        "regimes = regimes.join(df, how='inner')\n",
        "regimes['Cumulative Return of U.S. Market'] = df.Return.cumsum()\n",
        "regimes = regimes.reset_index(drop=False)\n",
        "regimes = regimes.rename(columns={'index':'Date'})\n",
        "regimes = regimes.iloc[1:, ]"
      ],
      "execution_count": null,
      "outputs": []
    },
    {
      "cell_type": "code",
      "metadata": {
        "colab": {
          "base_uri": "https://localhost:8080/",
          "height": 203
        },
        "id": "TR3X0gn22OWw",
        "outputId": "61b83692-a90f-406c-9b4f-dd089f2febbe"
      },
      "source": [
        "regimes.head()"
      ],
      "execution_count": null,
      "outputs": [
        {
          "output_type": "execute_result",
          "data": {
            "text/html": [
              "<div>\n",
              "<style scoped>\n",
              "    .dataframe tbody tr th:only-of-type {\n",
              "        vertical-align: middle;\n",
              "    }\n",
              "\n",
              "    .dataframe tbody tr th {\n",
              "        vertical-align: top;\n",
              "    }\n",
              "\n",
              "    .dataframe thead th {\n",
              "        text-align: right;\n",
              "    }\n",
              "</style>\n",
              "<table border=\"1\" class=\"dataframe\">\n",
              "  <thead>\n",
              "    <tr style=\"text-align: right;\">\n",
              "      <th></th>\n",
              "      <th>Date</th>\n",
              "      <th>Regime</th>\n",
              "      <th>Open</th>\n",
              "      <th>High</th>\n",
              "      <th>Low</th>\n",
              "      <th>Adj Close</th>\n",
              "      <th>Return</th>\n",
              "      <th>Cumulative Return of U.S. Market</th>\n",
              "    </tr>\n",
              "  </thead>\n",
              "  <tbody>\n",
              "    <tr>\n",
              "      <th>1</th>\n",
              "      <td>2000-01-04</td>\n",
              "      <td>0</td>\n",
              "      <td>143.53125</td>\n",
              "      <td>144.06250</td>\n",
              "      <td>139.640625</td>\n",
              "      <td>94.000107</td>\n",
              "      <td>-0.039891</td>\n",
              "      <td>-0.039891</td>\n",
              "    </tr>\n",
              "    <tr>\n",
              "      <th>2</th>\n",
              "      <td>2000-01-05</td>\n",
              "      <td>0</td>\n",
              "      <td>139.93750</td>\n",
              "      <td>141.53125</td>\n",
              "      <td>137.250000</td>\n",
              "      <td>94.168259</td>\n",
              "      <td>0.001787</td>\n",
              "      <td>-0.038104</td>\n",
              "    </tr>\n",
              "    <tr>\n",
              "      <th>3</th>\n",
              "      <td>2000-01-06</td>\n",
              "      <td>0</td>\n",
              "      <td>139.62500</td>\n",
              "      <td>141.50000</td>\n",
              "      <td>137.750000</td>\n",
              "      <td>92.654861</td>\n",
              "      <td>-0.016202</td>\n",
              "      <td>-0.054306</td>\n",
              "    </tr>\n",
              "    <tr>\n",
              "      <th>4</th>\n",
              "      <td>2000-01-07</td>\n",
              "      <td>0</td>\n",
              "      <td>140.31250</td>\n",
              "      <td>145.75000</td>\n",
              "      <td>140.062500</td>\n",
              "      <td>98.035896</td>\n",
              "      <td>0.056452</td>\n",
              "      <td>0.002147</td>\n",
              "    </tr>\n",
              "    <tr>\n",
              "      <th>5</th>\n",
              "      <td>2000-01-10</td>\n",
              "      <td>0</td>\n",
              "      <td>146.25000</td>\n",
              "      <td>146.90625</td>\n",
              "      <td>145.031250</td>\n",
              "      <td>98.372215</td>\n",
              "      <td>0.003425</td>\n",
              "      <td>0.005571</td>\n",
              "    </tr>\n",
              "  </tbody>\n",
              "</table>\n",
              "</div>"
            ],
            "text/plain": [
              "        Date  Regime  ...    Return  Cumulative Return of U.S. Market\n",
              "1 2000-01-04       0  ... -0.039891                         -0.039891\n",
              "2 2000-01-05       0  ...  0.001787                         -0.038104\n",
              "3 2000-01-06       0  ... -0.016202                         -0.054306\n",
              "4 2000-01-07       0  ...  0.056452                          0.002147\n",
              "5 2000-01-10       0  ...  0.003425                          0.005571\n",
              "\n",
              "[5 rows x 8 columns]"
            ]
          },
          "metadata": {
            "tags": []
          },
          "execution_count": 7
        }
      ]
    },
    {
      "cell_type": "markdown",
      "metadata": {
        "id": "hvKLalS62OWw"
      },
      "source": [
        "### 4. Plotting and analyzing regimes"
      ]
    },
    {
      "cell_type": "code",
      "metadata": {
        "colab": {
          "base_uri": "https://localhost:8080/",
          "height": 297
        },
        "id": "ISzRnGBS2OWx",
        "outputId": "aa7fc8cd-b3b1-41a5-b92e-b4754644b326"
      },
      "source": [
        "order=[0, 1, 2, 3]\n",
        "fig = sns.FacetGrid(data= regimes,hue = 'Regime',hue_order = order,aspect = 2,height = 4)\n",
        "fig.map(plt.scatter,'Date', 'Cumulative Return of U.S. Market', s=4).add_legend()\n",
        "plt.show()"
      ],
      "execution_count": null,
      "outputs": [
        {
          "output_type": "display_data",
          "data": {
            "image/png": "[encoded data removed]",
            "text/plain": [
              "<Figure size 621.5x288 with 1 Axes>"
            ]
          },
          "metadata": {
            "tags": [],
            "needs_background": "light"
          }
        }
      ]
    },
    {
      "cell_type": "code",
      "metadata": {
        "colab": {
          "base_uri": "https://localhost:8080/"
        },
        "id": "6VH9dAYT2OWx",
        "outputId": "52fbf4ed-731f-492a-db4f-bcbae38c9310"
      },
      "source": [
        "for i in order:\n",
        "    mean = round(regime_detector.means_[i][0], 4)\n",
        "    cov = round(regime_detector.covariances_[i], 4)\n",
        "    print('- Mean for Regime %i: '%i,mean)\n",
        "    print('> Covariance for Regime %i: '%i, cov)"
      ],
      "execution_count": null,
      "outputs": [
        {
          "output_type": "stream",
          "text": [
            "- Mean for Regime 0:  137.588\n",
            "> Covariance for Regime 0:  89.8152\n",
            "- Mean for Regime 1:  284.536\n",
            "> Covariance for Regime 1:  1148.444\n",
            "- Mean for Regime 2:  106.8233\n",
            "> Covariance for Regime 2:  142.6364\n",
            "- Mean for Regime 3:  197.8583\n",
            "> Covariance for Regime 3:  298.8475\n"
          ],
          "name": "stdout"
        }
      ]
    },
    {
      "cell_type": "code",
      "metadata": {
        "id": "JkTnSxV-eMO2"
      },
      "source": [
        ""
      ],
      "execution_count": null,
      "outputs": []
    }
  ]
}